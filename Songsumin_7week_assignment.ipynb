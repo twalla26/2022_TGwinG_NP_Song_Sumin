{
 "cells": [
  {
   "cell_type": "markdown",
   "id": "14cee6f2",
   "metadata": {},
   "source": [
    "# [T.G.WinG Web/Python] Algorithm 과제\n",
    "\n",
    "제출 기한: 5월 27일 금요일 자정<br>\n",
    "제출 포맷: .ipynb<br>\n",
    "제출 플랫폼: GitHub<br>"
   ]
  },
  {
   "cell_type": "markdown",
   "id": "f2c3061c",
   "metadata": {},
   "source": [
    "### 1. Insertion Sort 의 경우 binary Search 를 이용해 최적화 할 수 있습니다. 아래 링크를 읽고 Linear Search 가 아닌 binary Search 를 이용해 Insertion sort 를 최적화 시켜 보세요. [20점] <br>\n",
    "[링크: [Binary-Insertion-Sort](https://www.interviewkickstart.com/learn/binary-insertion-sort)]"
   ]
  },
  {
   "cell_type": "code",
   "execution_count": 3,
   "id": "07d3a42b",
   "metadata": {},
   "outputs": [
    {
     "name": "stdout",
     "output_type": "stream",
     "text": [
      "[6, 8, 1, 5, 3]\n",
      "[1, 8, 6, 5, 3]\n",
      "[1, 5, 6, 8, 3]\n",
      "[1, 3, 6, 8, 5]\n"
     ]
    },
    {
     "data": {
      "text/plain": [
       "'BinaryInsertionSort'"
      ]
     },
     "execution_count": 3,
     "metadata": {},
     "output_type": "execute_result"
    }
   ],
   "source": [
    "\n",
    "def binarySearch(array, N, key):\n",
    "    # 이 함수는 0부터 N까지, array에서 'key'보다 조금 더 큰 요소의 인덱스를 반환함.\n",
    "    \n",
    "    L = 0 # 일단 L을 첫번째 요소의 인덱스로 지정\n",
    "    R = N # R은 마지막 요소의 인덱스로 지정\n",
    "    while (L < R): # L과 R이 만나기 전까지 실행\n",
    "        mid = (L + R) // 2 # mid는 array의 가운데 요소의 인덱스\n",
    "        if (array[mid] <= key): # 만약 'key'가 array의 가운데 요소보다 크거나 같다면\n",
    "            L = mid + 1 # L을 가운데 요소의 오른쪽 요소의 인덱스로 지정\n",
    "        else: # 만약 'key'가 array의 가운데 요소보다 작으면\n",
    "            R = mid # R을 가운데 요소의 인덱스로 지정\n",
    "    # L = R 이거나 L > R이 되면\n",
    "    return L # array에서 'key'보다 조금 더 큰 요소의 인덱스가 반환됨.\n",
    "\n",
    "\n",
    "def binaryInsertionSort(array):\n",
    "    # 먼저 array의 첫번째 요소는 이미 정렬되었다고 가정\n",
    "    for i in range(1, len(array)): # 두번째 요소부터 마지막 요소까지 반복\n",
    "        key = array[i] \n",
    "        pos = binarySearch(array, i, key) # pos는 key보다 조금 더 큰 요소의 인덱스\n",
    "        # 'pos' will now contain the index where 'key' should be inserted.\n",
    "        # pos는 이제 key가 투입될 인덱스가 될 것.\n",
    "        j = i\n",
    "        \n",
    "        # pos부터 i까지의 모든 요소를 오른쪽으로 이동\n",
    "        while (j > pos):\n",
    "            array[i] = array[j - 1]\n",
    "            j = j - 1\n",
    "            \n",
    "        # 'key'를 올바른 위치에 투입\n",
    "        array[pos] = key\n",
    "        print(array)\n",
    "    return \"BinaryInsertionSort\"\n",
    "\n",
    "array = [8,6,1,5,3]\n",
    "binaryInsertionSort(array)\n"
   ]
  },
  {
   "cell_type": "markdown",
   "id": "2004993a",
   "metadata": {},
   "source": [
    "### 2. Sorting Algorithm 은 Stable 한 알고리즘과 Stable 하지 않은 알고리즘으로 나뉩니다. Stable 하다는 것이 무엇인지 설명하고, 다음 알고리즘들이 Stable 한지 아닌지 분류하세요. [10 점]<br>\n",
    "[Merge, Insertion, Selection, Quick, Bubble]"
   ]
  },
  {
   "cell_type": "markdown",
   "id": "6677d1db",
   "metadata": {},
   "source": [
    "[2번 문제 답안 입력 블럭]\n",
    "\n",
    "Sorting Algorithm의 안정성은 알고리즘이 동일한 요소를 처리하는 방법과 관련있다.\n",
    "Stable한 알고리즘은 동일한 요소의 상대적인 순서를 유지하지만,\n",
    "Stable하지 않은 알고리즘은 그렇지 않다.\n",
    "\n",
    "안정 정렬: Merge, Insertion, Bubble\n",
    "불안정 정렬: Quick\n",
    "둘 다 가능: Selection"
   ]
  },
  {
   "cell_type": "markdown",
   "id": "f3acb76b",
   "metadata": {},
   "source": [
    "### 3. Sorting Algorithm 은 In-place 알고리즘과 not-in-place 알고리즘으로 나뉩니다. In-place 가 어떤 것인지, 그리고 다음 알고리즘들이 In- place 인지 아닌지 분류하세요. [10 점]<br>\n",
    "[Merge, Insertion, Selection, Quick, Bubble]"
   ]
  },
  {
   "cell_type": "code",
   "execution_count": null,
   "id": "08ed8cd3",
   "metadata": {},
   "outputs": [],
   "source": [
    "Inplace 알고리즘이란 추가적인 메모리 공간을 많이 필요로 하지 않는 혹은\n",
    "전혀 필요로 하지 않는 알고리즘을 의미한다.\n",
    "\n",
    "In-place: Insertion, Selection, Quick, Bubbledfdf\n",
    "not-in-place: Merge"
   ]
  },
  {
   "cell_type": "markdown",
   "id": "0d8d686f",
   "metadata": {},
   "source": [
    "### 4. 다음 링크를 보고 Quick Sort 를 구현하세요. [20 점]\n",
    "[링크: [Binary-Insertion-Sort](https://www.programiz.com/dsa/quick-sort)]"
   ]
  },
  {
   "cell_type": "code",
   "execution_count": 4,
   "id": "d8d2e764",
   "metadata": {},
   "outputs": [
    {
     "name": "stdout",
     "output_type": "stream",
     "text": [
      "Unsorted Array\n",
      "[8, 7, 2, 1, 0, 9, 6]\n",
      "Sorted Array in Ascending Order: \n",
      "[0, 1, 2, 6, 7, 8, 9]\n"
     ]
    }
   ],
   "source": [
    "# Quick sort in Python\n",
    "\n",
    "# 배열을 재정렬하는 함수\n",
    "def partition(array, low, high):\n",
    "    \n",
    "    pivot = array[high] # 가장 오른쪽에 있는 요소를 pivot으로 선택\n",
    "\n",
    "    i = low - 1 # 포인터를 pivot 요소에 고정, 첫번째 요소부터 비교 시작\n",
    "    \n",
    "    for j in range(low, high): # 각각의 요소를 pivot과 비교\n",
    "        \n",
    "        if array[j] <= pivot: # 만약 j번째 요소가 pivot보다 작거나 같으면\n",
    "            i = i + 1 # 두번째 포인터가 설정되고\n",
    "            \n",
    "            (array[i], array[j]) = (array[j], array[i]) \n",
    "            # 두번째 포인터에 있는 요소와 j번째 요소가 교체됨\n",
    "            \n",
    "    (array[i + 1], array[high]) = (array[high], array[i + 1])\n",
    "    # 마지막으로 pivot 요소가 두번째 포인터로 교체됨\n",
    "    \n",
    "    return i + 1\n",
    "\n",
    "# Quicksort를 수행하는 함수\n",
    "def quickSort(array, low, high):\n",
    "    if low < high:\n",
    "        \n",
    "        pi = partition(array, low, high) \n",
    "        \n",
    "        quickSort(array, low, pi - 1) # pivot의 왼쪽에 있는 리스트를 재귀\n",
    "        \n",
    "        quickSort(array, pi + 1, high) # pivot의 오른쪽에 있는 리스트를 재귀\n",
    "        \n",
    "    return \"QuickSort\"\n",
    "\n",
    "data = [8,7,2,1,0,9,6]\n",
    "print(\"Unsorted Array\")\n",
    "print(data)\n",
    "\n",
    "size = len(data)\n",
    "\n",
    "quickSort(data, 0, size - 1)\n",
    "\n",
    "print('Sorted Array in Ascending Order: ')\n",
    "print(data)"
   ]
  },
  {
   "cell_type": "markdown",
   "id": "81d36b6e",
   "metadata": {},
   "source": [
    "### 5. Python에서는 기본적으로 sort 함수를 제공합니다. 검색해서, 어떤 sort를 사용하는지 쓰시고, 해당 알고리즘에 대해서 읽어보시고, 이해하신 대로 작성하세요. [20 점]\n",
    "```python\n",
    "nums = [1,3,4,6,8,123,124,12,31512,7]\n",
    "nums.sort() # 이 코드의 Sorting Algorithm은 어떤 Algorithm일까요?\n",
    "print(nums) #[1,3,4,6,7,8,12,123,124,31512]\n",
    "```"
   ]
  },
  {
   "cell_type": "markdown",
   "id": "10cd4b50",
   "metadata": {},
   "source": [
    "[5번 문제 답안 입력 블럭]\n",
    "파이썬에서는 Tim sort를 사용한다.\n",
    "Tim sort는 Insertion sort와 Merge sort를 결합한 알고리즘이다.\n",
    "\n",
    "정렬을 해야하는 전체 배열을 작은 덩어리들로 잘라\n",
    "각각의 덩어리를 Insertion sort로 정렬한 뒤\n",
    "merge sort로 병합한다."
   ]
  },
  {
   "cell_type": "markdown",
   "id": "f29b7766",
   "metadata": {},
   "source": [
    "### 6. 유클리드 호제법에 대해서 검색하고, 이용해서 102734612322 과 292237644의 최대 공약수를 구하세요. [20 점]"
   ]
  },
  {
   "cell_type": "code",
   "execution_count": 9,
   "id": "c4d1ee81",
   "metadata": {},
   "outputs": [
    {
     "name": "stdout",
     "output_type": "stream",
     "text": [
      "6\n"
     ]
    }
   ],
   "source": [
    "\n",
    "def gcd(m,n):\n",
    "    if n == 0:\n",
    "        return m\n",
    "    mod = m % n\n",
    "    if mod != 0:\n",
    "        m, n = n, mod\n",
    "        return gcd(m, n)\n",
    "    else:\n",
    "        return n\n",
    "\n",
    "print(gcd(102734612322,292237644))"
   ]
  },
  {
   "cell_type": "code",
   "execution_count": null,
   "id": "d7ed7708",
   "metadata": {},
   "outputs": [],
   "source": []
  }
 ],
 "metadata": {
  "kernelspec": {
   "display_name": "Python 3 (ipykernel)",
   "language": "python",
   "name": "python3"
  },
  "language_info": {
   "codemirror_mode": {
    "name": "ipython",
    "version": 3
   },
   "file_extension": ".py",
   "mimetype": "text/x-python",
   "name": "python",
   "nbconvert_exporter": "python",
   "pygments_lexer": "ipython3",
   "version": "3.10.4"
  }
 },
 "nbformat": 4,
 "nbformat_minor": 5
}
